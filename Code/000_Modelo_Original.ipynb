{
  "cells": [
    {
      "cell_type": "markdown",
      "metadata": {
        "id": "view-in-github",
        "colab_type": "text"
      },
      "source": [
        "<a href=\"https://colab.research.google.com/github/luisamariarodriguez/F_monografia_esp_analitica_ciencia_datos_2024./blob/main/Code/000_Modelo_Original.ipynb\" target=\"_parent\"><img src=\"https://colab.research.google.com/assets/colab-badge.svg\" alt=\"Open In Colab\"/></a>"
      ]
    },
    {
      "cell_type": "code",
      "execution_count": null,
      "metadata": {
        "colab": {
          "base_uri": "https://localhost:8080/"
        },
        "id": "ZymHDQ9BYIEW",
        "outputId": "fe560c8c-7cc4-4a35-95c3-547b7ac83946"
      },
      "outputs": [
        {
          "output_type": "stream",
          "name": "stdout",
          "text": [
            "Mounted at /content/drive\n"
          ]
        }
      ],
      "source": [
        "from google.colab import drive\n",
        "drive.mount('/content/drive')"
      ]
    },
    {
      "cell_type": "markdown",
      "metadata": {
        "id": "KIFRUKgJYA5V"
      },
      "source": [
        "# UNSUPERVISED ANOMALY SEGMENTATION\n",
        "### This is a implementation of **DFR: Deep Feature Reconstruction for Unsupervised Anomaly Segmentation** https://arxiv.org/abs/2012.07122\n",
        "#### We train only with OK images, and then we predict a hotmap, where high areas are presumably anomalous\n",
        "#### The pretrained weights provided by me (input anomalysegmentation-weights) are not very good because Kaggle limits training time to 9hrs"
      ]
    },
    {
      "cell_type": "markdown",
      "metadata": {
        "id": "HLtVnZQmYA5W"
      },
      "source": [
        "## IMPORTS"
      ]
    },
    {
      "cell_type": "code",
      "execution_count": null,
      "metadata": {
        "colab": {
          "base_uri": "https://localhost:8080/"
        },
        "id": "fLpRsKDRYA5X",
        "outputId": "ee85f561-ea6d-4cd4-c0e2-a5ff823d315c"
      },
      "outputs": [
        {
          "output_type": "stream",
          "name": "stdout",
          "text": [
            "Requirement already satisfied: tqdm in /usr/local/lib/python3.10/dist-packages (4.66.4)\n"
          ]
        }
      ],
      "source": [
        "!pip install tqdm"
      ]
    },
    {
      "cell_type": "code",
      "execution_count": null,
      "metadata": {
        "id": "zEN9P8qWYA5X"
      },
      "outputs": [],
      "source": [
        "import tensorflow as tf\n",
        "from tensorflow.keras.preprocessing.image import ImageDataGenerator\n",
        "from tensorflow.keras.optimizers import Adam\n",
        "from tensorflow.keras.applications.vgg16 import VGG16\n",
        "from tensorflow.keras.applications.vgg19 import VGG19\n",
        "from tensorflow.keras import Input, Model, Sequential\n",
        "from tensorflow.keras import layers\n",
        "\n",
        "from sklearn.model_selection import train_test_split\n",
        "from sklearn.decomposition import PCA\n",
        "\n",
        "from skimage import io\n",
        "from skimage.transform import resize\n",
        "\n",
        "import numpy as np\n",
        "\n",
        "from matplotlib import pyplot as plt\n",
        "import matplotlib.pyplot as plt\n",
        "import cv2\n",
        "\n",
        "import random\n",
        "import os\n",
        "from tqdm import tqdm\n",
        "\n",
        "from random import randrange"
      ]
    },
    {
      "cell_type": "markdown",
      "metadata": {
        "id": "IQHKrO-SYA5Y"
      },
      "source": [
        "## Custom Data Generator"
      ]
    },
    {
      "cell_type": "code",
      "execution_count": null,
      "metadata": {
        "id": "07VSvCIYYA5Y"
      },
      "outputs": [],
      "source": [
        "input_directory = f\"/content/drive/MyDrive/pixai_anomaly_detection_1\"\n",
        "input_directory_test = f\"/content/drive/MyDrive/pixai_anomaly_detection_1/test\"\n",
        "classes = ['anomaly', 'good']"
      ]
    },
    {
      "cell_type": "code",
      "execution_count": null,
      "metadata": {
        "id": "N-ngxWWKYA5Y"
      },
      "outputs": [],
      "source": [
        "input_model_filepath = \"../input/anomalysegmentation-weights/anomaly-segmentation-model_vgg19.h5\"\n",
        "output_model_filepath = \"./anomaly-segmentation-model.h5\""
      ]
    },
    {
      "cell_type": "code",
      "execution_count": null,
      "metadata": {
        "id": "PPx673t5YA5Y"
      },
      "outputs": [],
      "source": [
        "class CustomDataGen(tf.keras.utils.Sequence):\n",
        "\n",
        "    def __init__(self, path = input_directory,\n",
        "                 batch_size = 4,\n",
        "                 input_size=(224, 224),\n",
        "                 shuffle=True, seed = None, subset = 'training'):\n",
        "\n",
        "        self.image_data_generator = ImageDataGenerator(rescale=1. / 255, data_format='channels_last',\n",
        "            #zoom_range = 0.1,\n",
        "            #width_shift_range = 0.05,\n",
        "            #height_shift_range = 0.05,\n",
        "            #brightness_range=(0.95,1.05)\n",
        "        )\n",
        "\n",
        "        if seed is None:\n",
        "            random.randint(0, 2**32)\n",
        "\n",
        "        self.batch_size = batch_size\n",
        "        self.input_size = input_size\n",
        "\n",
        "        self.X_paths = [os.fsdecode(file) for file in os.scandir(f\"{path}/train/good\")]\n",
        "        self.X_train, self.X_val = train_test_split(self.X_paths, test_size=0.2, random_state = seed, shuffle = True)\n",
        "\n",
        "        if subset == 'training':\n",
        "            self.X = self.X_train\n",
        "        elif subset == 'validation':\n",
        "            self.X = self.X_val\n",
        "\n",
        "        self.n = len(self.X)\n",
        "\n",
        "\n",
        "    def __getitem__(self, index):\n",
        "\n",
        "        data_x = []\n",
        "\n",
        "        for i in range(self.batch_size):\n",
        "            image = cv2.imread(self.X[self.batch_size * index + i])\n",
        "\n",
        "            image = self.image_data_generator.random_transform(image)\n",
        "\n",
        "            image = image / 255\n",
        "\n",
        "            image = tf.image.resize(image, self.input_size)\n",
        "            data_x.append(image)\n",
        "\n",
        "        data_x = np.array(data_x)\n",
        "\n",
        "        return data_x, data_x\n",
        "\n",
        "    def __len__(self):\n",
        "        return self.n // self.batch_size"
      ]
    },
    {
      "cell_type": "code",
      "execution_count": null,
      "metadata": {
        "id": "1QOobhRSYA5Z"
      },
      "outputs": [],
      "source": [
        "INPUT_SIZE = (224,224)\n",
        "seed = random.randint(0, 2**32)\n",
        "train_datagen = CustomDataGen(input_size = INPUT_SIZE, batch_size = 4, seed = seed)\n",
        "validation_datagen = CustomDataGen(input_size = INPUT_SIZE, subset = \"validation\", seed = seed)"
      ]
    },
    {
      "cell_type": "code",
      "execution_count": null,
      "metadata": {
        "colab": {
          "base_uri": "https://localhost:8080/"
        },
        "id": "aJAxpvgwYA5Z",
        "outputId": "7fd89620-0a74-489d-8cab-8b48d48d97bd"
      },
      "outputs": [
        {
          "output_type": "execute_result",
          "data": {
            "text/plain": [
              "False"
            ]
          },
          "metadata": {},
          "execution_count": 10
        }
      ],
      "source": [
        "#Check we dont have the same images in train and validation sets\n",
        "any([value in train_datagen.X for value in validation_datagen.X])"
      ]
    },
    {
      "cell_type": "code",
      "execution_count": null,
      "metadata": {
        "colab": {
          "base_uri": "https://localhost:8080/",
          "height": 486
        },
        "id": "uA5tKP8kYA5Z",
        "outputId": "6472a1ae-e68a-4045-8a4e-4d6b81b52199"
      },
      "outputs": [
        {
          "output_type": "display_data",
          "data": {
            "text/plain": [
              "<Figure size 640x480 with 1 Axes>"
            ],
            "image/png": "[encoded data removed]"
          },
          "metadata": {}
        }
      ],
      "source": [
        "x, y = train_datagen[0]\n",
        "io.imshow(x[0])\n",
        "io.show()"
      ]
    },
    {
      "cell_type": "markdown",
      "metadata": {
        "id": "b-GZwzvaYA5Z"
      },
      "source": [
        "## Model"
      ]
    },
    {
      "cell_type": "code",
      "execution_count": null,
      "metadata": {
        "id": "4UyI0wXdYA5a"
      },
      "outputs": [],
      "source": [
        "#model class\n",
        "#Implementation of DFR: Deep Feature Reconstruction for Unsupervised Anomaly Segmentation https://arxiv.org/abs/2012.07122\n",
        "class AnomalySegmentator(tf.keras.Model):\n",
        "    def __init__(self, init_layer = 0, end_layer = None):\n",
        "        super(AnomalySegmentator, self).__init__()\n",
        "        #self.L2_weight = 1e-6\n",
        "        self.init_layer = init_layer\n",
        "        self.end_layer = end_layer\n",
        "\n",
        "    def build_autoencoder(self, c0, cd):\n",
        "        self.autoencoder = Sequential([\n",
        "            layers.InputLayer((self.map_shape[0]//4, self.map_shape[1]//4, c0)),\n",
        "            layers.Conv2D((c0 + cd) // 2,(1,1), padding='same', activation = tf.keras.layers.LeakyReLU(alpha=0.1)),\n",
        "            layers.Conv2D(2*cd,(1,1), padding='same', activation = tf.keras.layers.LeakyReLU(alpha=0.1)),\n",
        "            layers.Conv2D(cd,(1,1), padding='same'),\n",
        "            layers.Conv2D(2*cd,(1,1), padding='same', activation = tf.keras.layers.LeakyReLU(alpha=0.1)),\n",
        "            layers.Conv2D((c0 + cd) // 2,(1,1), padding='same', activation = tf.keras.layers.LeakyReLU(alpha=0.1)),\n",
        "            layers.Conv2D(c0,(1,1), padding='same')\n",
        "        ])\n",
        "\n",
        "    def build(self, input_shape):\n",
        "\n",
        "        self.vgg = VGG19(include_top = False, weights = 'imagenet', input_shape=input_shape[1:])\n",
        "        self.features_list = [layer.output for layer in self.vgg.layers if 'conv' in layer.name][self.init_layer:self.end_layer]\n",
        "\n",
        "        self.feature_extractor = Model(inputs = self.vgg.input,\n",
        "                                       outputs = self.features_list)\n",
        "        self.feature_extractor.trainable = False\n",
        "\n",
        "        self.threshold = tf.Variable(0, trainable = False, dtype = tf.float32)\n",
        "\n",
        "        self.map_shape = self.features_list[0].shape[1:-1]\n",
        "\n",
        "        self.average_pooling = layers.AveragePooling2D(pool_size=(4, 4), strides=(4,4))\n",
        "\n",
        "\n",
        "\n",
        "        self.c0 = sum([feature.shape[-1] for feature in self.features_list])\n",
        "        self.cd = 40\n",
        "        self.build_autoencoder(self.c0, self.cd)\n",
        "\n",
        "\n",
        "    def call(self, inputs):\n",
        "        features = self.feature_extractor(inputs)\n",
        "        resized_features = [tf.image.resize(feature, self.map_shape) for feature in features]\n",
        "        resized_features = tf.concat(resized_features, axis = -1)\n",
        "\n",
        "        resized_features = self.average_pooling(resized_features)\n",
        "\n",
        "        autoencoder_output = self.autoencoder(resized_features)\n",
        "        return tf.reduce_sum((autoencoder_output - resized_features)**2, axis = -1)\n",
        "\n",
        "    def reconstruction_loss(self):\n",
        "        @tf.function\n",
        "        def _loss(y_true, y_pred):\n",
        "            loss = tf.reduce_mean(y_pred, axis = (1,2)) / (tf.cast(tf.shape(y_pred)[0], tf.float32) * self.c0)\n",
        "            return loss\n",
        "\n",
        "        return _loss\n",
        "\n",
        "    def compute_threshold(self, data_loader, fpr = 0.05):\n",
        "      error = []\n",
        "      for i in tqdm(range(len(data_loader))):\n",
        "        x, y = data_loader[i]\n",
        "        error.append(self(x))\n",
        "\n",
        "      threshold = np.percentile(error, 100 - fpr)\n",
        "      self.threshold = tf.Variable(threshold, trainable = False, dtype = tf.float32)\n",
        "\n",
        "    def compute_pca(self, data_loader):\n",
        "        extraction_per_sample = 20\n",
        "\n",
        "        extractions = []\n",
        "        for i in tqdm(range(len(data_loader))):\n",
        "            x, _ = data_loader[i]\n",
        "\n",
        "            features = self.feature_extractor(x)\n",
        "            resized_features = [tf.image.resize(feature, self.map_shape) for feature in features]\n",
        "            resized_features = tf.concat(resized_features, axis = -1)\n",
        "\n",
        "            resized_features = self.average_pooling(resized_features)\n",
        "\n",
        "            for feature in resized_features:\n",
        "\n",
        "                for _ in range(extraction_per_sample):\n",
        "\n",
        "                    row, col = randrange(feature.shape[0]), randrange(feature.shape[1])\n",
        "                    extraction = feature[row, col]\n",
        "                    extractions.append(extraction)\n",
        "\n",
        "        extractions = np.array(extractions)\n",
        "        print(f\"Extractions Shape: {extractions.shape}\")\n",
        "        pca = PCA(0.9, svd_solver = \"full\")\n",
        "        pca.fit(extractions)\n",
        "        self.cd = pca.n_components_\n",
        "        self.build_autoencoder(self.c0, self.cd)\n",
        "        print(f\"Components with explainable variance 0.9 -> {self.cd}\")"
      ]
    },
    {
      "cell_type": "code",
      "execution_count": null,
      "metadata": {
        "id": "pnkRkxZ1YA5a"
      },
      "outputs": [],
      "source": [
        "as_model = AnomalySegmentator()\n",
        "as_model.compile(Adam(1e-4), loss = as_model.reconstruction_loss())"
      ]
    },
    {
      "cell_type": "code",
      "execution_count": null,
      "metadata": {
        "colab": {
          "base_uri": "https://localhost:8080/"
        },
        "id": "ktiyTcreYA5a",
        "outputId": "977d8c2f-2780-4233-f528-fe00f11f9558"
      },
      "outputs": [
        {
          "output_type": "stream",
          "name": "stdout",
          "text": [
            "Downloading data from https://storage.googleapis.com/tensorflow/keras-applications/vgg19/vgg19_weights_tf_dim_ordering_tf_kernels_notop.h5\n",
            "80134624/80134624 [==============================] - 0s 0us/step\n"
          ]
        },
        {
          "output_type": "stream",
          "name": "stderr",
          "text": [
            "100%|██████████| 21/21 [00:09<00:00,  2.30it/s]\n"
          ]
        },
        {
          "output_type": "stream",
          "name": "stdout",
          "text": [
            "Extractions Shape: (1680, 5504)\n",
            "Components with explainable variance 0.9 -> 15\n"
          ]
        }
      ],
      "source": [
        "as_model.build((None, *INPUT_SIZE,3))\n",
        "as_model.compute_pca(train_datagen)"
      ]
    },
    {
      "cell_type": "markdown",
      "metadata": {
        "id": "vij43uxrYA5a"
      },
      "source": [
        "## Training"
      ]
    },
    {
      "cell_type": "code",
      "execution_count": null,
      "metadata": {
        "colab": {
          "base_uri": "https://localhost:8080/",
          "height": 1000
        },
        "id": "LghcOyUPYA5b",
        "outputId": "a101c21f-b470-4c9d-bbd7-0a67d7fca26c"
      },
      "outputs": [
        {
          "output_type": "stream",
          "name": "stdout",
          "text": [
            "Epoch 1/50\n",
            "21/21 [==============================] - 27s 459ms/step - loss: 4.8996 - val_loss: 1.5406 - lr: 1.0000e-04\n",
            "Epoch 2/50\n",
            "21/21 [==============================] - 10s 469ms/step - loss: 1.2216 - val_loss: 1.0364 - lr: 1.0000e-04\n",
            "Epoch 3/50\n",
            "21/21 [==============================] - 10s 485ms/step - loss: 0.9193 - val_loss: 0.7714 - lr: 1.0000e-04\n",
            "Epoch 4/50\n",
            "21/21 [==============================] - 10s 468ms/step - loss: 0.6704 - val_loss: 0.5657 - lr: 1.0000e-04\n",
            "Epoch 5/50\n",
            "21/21 [==============================] - 10s 488ms/step - loss: 0.5005 - val_loss: 0.4323 - lr: 1.0000e-04\n",
            "Epoch 6/50\n",
            "21/21 [==============================] - 10s 487ms/step - loss: 0.3884 - val_loss: 0.3431 - lr: 1.0000e-04\n",
            "Epoch 7/50\n",
            "21/21 [==============================] - 10s 475ms/step - loss: 0.3166 - val_loss: 0.2907 - lr: 1.0000e-04\n",
            "Epoch 8/50\n",
            "21/21 [==============================] - 10s 497ms/step - loss: 0.2750 - val_loss: 0.2592 - lr: 1.0000e-04\n",
            "Epoch 9/50\n",
            "21/21 [==============================] - 10s 494ms/step - loss: 0.2452 - val_loss: 0.2302 - lr: 1.0000e-04\n",
            "Epoch 10/50\n",
            "21/21 [==============================] - 10s 492ms/step - loss: 0.2176 - val_loss: 0.2044 - lr: 1.0000e-04\n",
            "Epoch 11/50\n",
            "21/21 [==============================] - 10s 498ms/step - loss: 0.1922 - val_loss: 0.1814 - lr: 1.0000e-04\n",
            "Epoch 12/50\n",
            "21/21 [==============================] - 10s 462ms/step - loss: 0.1718 - val_loss: 0.1652 - lr: 1.0000e-04\n",
            "Epoch 13/50\n",
            "21/21 [==============================] - 10s 469ms/step - loss: 0.1579 - val_loss: 0.1511 - lr: 1.0000e-04\n",
            "Epoch 14/50\n",
            "21/21 [==============================] - 10s 489ms/step - loss: 0.1458 - val_loss: 0.1400 - lr: 1.0000e-04\n",
            "Epoch 15/50\n",
            "21/21 [==============================] - 10s 498ms/step - loss: 0.1353 - val_loss: 0.1302 - lr: 1.0000e-04\n",
            "Epoch 16/50\n",
            "21/21 [==============================] - 10s 464ms/step - loss: 0.1253 - val_loss: 0.1211 - lr: 1.0000e-04\n",
            "Epoch 17/50\n",
            "21/21 [==============================] - 10s 465ms/step - loss: 0.1169 - val_loss: 0.1133 - lr: 1.0000e-04\n",
            "Epoch 18/50\n",
            "21/21 [==============================] - 10s 468ms/step - loss: 0.1091 - val_loss: 0.1062 - lr: 1.0000e-04\n",
            "Epoch 19/50\n",
            "21/21 [==============================] - 10s 463ms/step - loss: 0.1025 - val_loss: 0.0997 - lr: 1.0000e-04\n",
            "Epoch 20/50\n",
            "21/21 [==============================] - 10s 466ms/step - loss: 0.0965 - val_loss: 0.0956 - lr: 1.0000e-04\n",
            "Epoch 21/50\n",
            "21/21 [==============================] - 10s 464ms/step - loss: 0.0912 - val_loss: 0.0890 - lr: 1.0000e-04\n",
            "Epoch 22/50\n",
            "21/21 [==============================] - 10s 465ms/step - loss: 0.0866 - val_loss: 0.0854 - lr: 1.0000e-04\n",
            "Epoch 23/50\n",
            "21/21 [==============================] - 10s 466ms/step - loss: 0.0826 - val_loss: 0.0808 - lr: 1.0000e-04\n",
            "Epoch 24/50\n",
            "21/21 [==============================] - 10s 494ms/step - loss: 0.0788 - val_loss: 0.0786 - lr: 1.0000e-04\n",
            "Epoch 25/50\n",
            "21/21 [==============================] - 10s 489ms/step - loss: 0.0750 - val_loss: 0.0740 - lr: 1.0000e-04\n",
            "Epoch 26/50\n",
            "21/21 [==============================] - 10s 464ms/step - loss: 0.0717 - val_loss: 0.0714 - lr: 1.0000e-04\n",
            "Epoch 27/50\n",
            "21/21 [==============================] - 10s 472ms/step - loss: 0.0690 - val_loss: 0.0693 - lr: 1.0000e-04\n",
            "Epoch 28/50\n",
            "21/21 [==============================] - 10s 461ms/step - loss: 0.0667 - val_loss: 0.0660 - lr: 1.0000e-04\n",
            "Epoch 29/50\n",
            "21/21 [==============================] - 9s 451ms/step - loss: 0.0643 - val_loss: 0.0642 - lr: 1.0000e-04\n",
            "Epoch 30/50\n",
            "21/21 [==============================] - 10s 491ms/step - loss: 0.0621 - val_loss: 0.0620 - lr: 1.0000e-04\n",
            "Epoch 31/50\n",
            "21/21 [==============================] - 10s 464ms/step - loss: 0.0600 - val_loss: 0.0600 - lr: 1.0000e-04\n",
            "Epoch 32/50\n",
            "21/21 [==============================] - 10s 464ms/step - loss: 0.0583 - val_loss: 0.0584 - lr: 1.0000e-04\n",
            "Epoch 33/50\n",
            "21/21 [==============================] - 10s 497ms/step - loss: 0.0572 - val_loss: 0.0578 - lr: 1.0000e-04\n",
            "Epoch 34/50\n",
            "21/21 [==============================] - 10s 468ms/step - loss: 0.0554 - val_loss: 0.0555 - lr: 1.0000e-04\n",
            "Epoch 35/50\n",
            "21/21 [==============================] - 10s 478ms/step - loss: 0.0537 - val_loss: 0.0544 - lr: 1.0000e-04\n",
            "Epoch 36/50\n",
            "21/21 [==============================] - 10s 500ms/step - loss: 0.0525 - val_loss: 0.0527 - lr: 1.0000e-04\n",
            "Epoch 37/50\n",
            "21/21 [==============================] - 9s 431ms/step - loss: 0.0513 - val_loss: 0.0529 - lr: 1.0000e-04\n",
            "Epoch 38/50\n",
            "21/21 [==============================] - 10s 465ms/step - loss: 0.0505 - val_loss: 0.0512 - lr: 1.0000e-04\n",
            "Epoch 39/50\n",
            "21/21 [==============================] - 11s 503ms/step - loss: 0.0495 - val_loss: 0.0502 - lr: 1.0000e-04\n",
            "Epoch 40/50\n",
            "21/21 [==============================] - 10s 487ms/step - loss: 0.0488 - val_loss: 0.0490 - lr: 1.0000e-04\n",
            "Epoch 41/50\n",
            "21/21 [==============================] - 10s 500ms/step - loss: 0.0478 - val_loss: 0.0480 - lr: 1.0000e-04\n",
            "Epoch 42/50\n",
            "21/21 [==============================] - 10s 500ms/step - loss: 0.0467 - val_loss: 0.0478 - lr: 1.0000e-04\n",
            "Epoch 43/50\n",
            "21/21 [==============================] - 10s 464ms/step - loss: 0.0461 - val_loss: 0.0467 - lr: 1.0000e-04\n",
            "Epoch 44/50\n",
            "21/21 [==============================] - 10s 472ms/step - loss: 0.0453 - val_loss: 0.0461 - lr: 1.0000e-04\n",
            "Epoch 45/50\n",
            "21/21 [==============================] - 10s 496ms/step - loss: 0.0442 - val_loss: 0.0454 - lr: 1.0000e-04\n",
            "Epoch 46/50\n",
            "21/21 [==============================] - 10s 461ms/step - loss: 0.0442 - val_loss: 0.0446 - lr: 1.0000e-04\n",
            "Epoch 47/50\n",
            "21/21 [==============================] - 10s 464ms/step - loss: 0.0431 - val_loss: 0.0441 - lr: 1.0000e-04\n",
            "Epoch 48/50\n",
            "21/21 [==============================] - 10s 493ms/step - loss: 0.0428 - val_loss: 0.0440 - lr: 1.0000e-04\n",
            "Epoch 49/50\n",
            "21/21 [==============================] - 10s 469ms/step - loss: 0.0424 - val_loss: 0.0434 - lr: 1.0000e-04\n",
            "Epoch 50/50\n",
            "21/21 [==============================] - 10s 464ms/step - loss: 0.0412 - val_loss: 0.0421 - lr: 1.0000e-04\n"
          ]
        },
        {
          "output_type": "display_data",
          "data": {
            "text/plain": [
              "<Figure size 640x480 with 1 Axes>"
            ],
            "image/png": "[encoded data removed]"
          },
          "metadata": {}
        },
        {
          "output_type": "stream",
          "name": "stderr",
          "text": [
            "100%|██████████| 21/21 [00:07<00:00,  2.82it/s]\n"
          ]
        }
      ],
      "source": [
        "#True if we want to train the model\n",
        "if True:\n",
        "    # Training the model\n",
        "    plateau = tf.keras.callbacks.ReduceLROnPlateau(\n",
        "      monitor='val_loss', factor=0.5, patience=5, verbose = 1\n",
        "    )\n",
        "    es = tf.keras.callbacks.EarlyStopping(monitor='val_loss', mode='min', verbose=1,\n",
        "                                          patience=15)  # Early stopping (stops training when validation doesn't improve for {patience} epochs)\n",
        "    save_best = tf.keras.callbacks.ModelCheckpoint(output_model_filepath, monitor='val_loss', save_best_only=True,\n",
        "                                                mode='min', save_weights_only = True)  # Saves the best version of the model to disk (as measured on the validation data set)\n",
        "\n",
        "    history = as_model.fit(train_datagen,\n",
        "        epochs=50,\n",
        "        validation_data=validation_datagen,\n",
        "        shuffle=True,\n",
        "        callbacks=[es, save_best, plateau])\n",
        "    #Training history\n",
        "    plt.plot(history.history['loss'])\n",
        "    plt.plot(history.history['val_loss'])\n",
        "    plt.title('model loss')\n",
        "    plt.ylabel('loss')\n",
        "    plt.xlabel('epoch')\n",
        "    plt.legend(['train', 'validation'], loc='upper left')\n",
        "    plt.show()\n",
        "\n",
        "    as_model.load_weights(output_model_filepath)\n",
        "    as_model.compute_threshold(train_datagen)\n",
        "    as_model.save_weights(output_model_filepath)\n",
        "else:\n",
        "\n",
        "    as_model.build((None, *INPUT_SIZE,3))\n",
        "    as_model.load_weights(input_model_filepath)\n",
        "    as_model.compute_threshold(train_datagen)\n",
        "    as_model.summary()\n",
        "    as_model.autoencoder.summary()"
      ]
    },
    {
      "cell_type": "markdown",
      "metadata": {
        "id": "JuDCPGmKYA5b"
      },
      "source": [
        "# TESTING"
      ]
    },
    {
      "cell_type": "code",
      "execution_count": null,
      "metadata": {
        "colab": {
          "base_uri": "https://localhost:8080/",
          "height": 53
        },
        "id": "kg4KFw8EYA5b",
        "outputId": "94d26484-9a53-4a4f-c586-1337ee4ca056"
      },
      "outputs": [
        {
          "output_type": "execute_result",
          "data": {
            "text/plain": [
              "\"\\ntest_datagen = ImageDataGenerator(rescale=1. / 255, data_format='channels_last')\\ntest_generator = test_datagen.flow_from_directory(input_directory_test,\\n                                                  target_size = INPUT_SIZE,\\n                                                  batch_size = 1,\\n                                                  class_mode = 'sparse')\\n\""
            ],
            "application/vnd.google.colaboratory.intrinsic+json": {
              "type": "string"
            }
          },
          "metadata": {},
          "execution_count": 16
        }
      ],
      "source": [
        "\"\"\"\n",
        "test_datagen = ImageDataGenerator(rescale=1. / 255, data_format='channels_last')\n",
        "test_generator = test_datagen.flow_from_directory(input_directory_test,\n",
        "                                                  target_size = INPUT_SIZE,\n",
        "                                                  batch_size = 1,\n",
        "                                                  class_mode = 'sparse')\n",
        "\"\"\""
      ]
    },
    {
      "cell_type": "code",
      "execution_count": null,
      "metadata": {
        "colab": {
          "base_uri": "https://localhost:8080/",
          "height": 87
        },
        "id": "Ga0CdCnlYA5b",
        "outputId": "502bbb4e-24ae-4283-d72c-2ed2c93f568d"
      },
      "outputs": [
        {
          "output_type": "execute_result",
          "data": {
            "text/plain": [
              "'\\nfor i in range(100):\\n    x_batch, y_batch = next(test_generator)\\n    hotmaps = as_model(x_batch)\\n    for x, y, hotmap in zip(x_batch, y_batch, hotmaps):\\n\\n        prediction = np.any(hotmap > as_model.threshold)\\n\\n        hotmap = resize(hotmap, x.shape[:-1], anti_aliasing = True)\\n        mask = np.where(hotmap > as_model.threshold, 1, 0)\\n\\n\\n        f, axarr = plt.subplots(1,2, figsize=(15,15))\\n        axarr[0].imshow(x)\\n        axarr[1].imshow(mask)\\n        axarr[1].imshow(x, alpha = 0.75)\\n        plt.show()\\n\\n        print(f\"Threshold: {as_model.threshold.numpy()} MaxValue: {hotmap.max()}\")\\n        print(f\"Directory: {classes[int(y)]}, Anomaly detected: {prediction}\")\\n'"
            ],
            "application/vnd.google.colaboratory.intrinsic+json": {
              "type": "string"
            }
          },
          "metadata": {},
          "execution_count": 17
        }
      ],
      "source": [
        "\"\"\"\n",
        "for i in range(100):\n",
        "    x_batch, y_batch = next(test_generator)\n",
        "    hotmaps = as_model(x_batch)\n",
        "    for x, y, hotmap in zip(x_batch, y_batch, hotmaps):\n",
        "\n",
        "        prediction = np.any(hotmap > as_model.threshold)\n",
        "\n",
        "        hotmap = resize(hotmap, x.shape[:-1], anti_aliasing = True)\n",
        "        mask = np.where(hotmap > as_model.threshold, 1, 0)\n",
        "\n",
        "\n",
        "        f, axarr = plt.subplots(1,2, figsize=(15,15))\n",
        "        axarr[0].imshow(x)\n",
        "        axarr[1].imshow(mask)\n",
        "        axarr[1].imshow(x, alpha = 0.75)\n",
        "        plt.show()\n",
        "\n",
        "        print(f\"Threshold: {as_model.threshold.numpy()} MaxValue: {hotmap.max()}\")\n",
        "        print(f\"Directory: {classes[int(y)]}, Anomaly detected: {prediction}\")\n",
        "\"\"\""
      ]
    },
    {
      "cell_type": "code",
      "execution_count": null,
      "metadata": {
        "id": "UfrXTW5U2_8o",
        "colab": {
          "base_uri": "https://localhost:8080/"
        },
        "outputId": "5416c931-1a51-4fd1-fcb9-4c7cfc9b0302"
      },
      "outputs": [
        {
          "output_type": "stream",
          "name": "stdout",
          "text": [
            "Found 125 images belonging to 2 classes.\n",
            "True Labels: [1, 0, 1, 0, 1, 1, 0, 1, 1, 1, 1, 1, 1, 1, 0, 1, 1, 1, 1, 0, 1, 1, 1, 0, 0, 1, 1, 1, 1, 1, 1, 0, 0, 0, 1, 1, 1, 1, 0, 1, 0, 0, 0, 1, 0, 0, 0, 1, 1, 1, 0, 1, 0, 1, 1, 1, 0, 0, 1, 0, 0, 0, 1, 1, 1, 1, 0, 1, 0, 1, 0, 0, 1, 1, 0, 1, 0, 1, 1, 0, 1, 1, 0, 0, 0, 0, 0, 1, 0, 0, 0, 0, 1, 0, 1, 1, 0, 0, 0, 1, 1, 0, 1, 0, 1, 0, 1, 0, 0, 1, 1, 0, 1, 1, 1, 0, 1, 1, 1, 1, 1, 0, 1, 1, 0]\n",
            "Predictions: [1, 1, 1, 1, 0, 1, 1, 1, 1, 1, 0, 1, 1, 1, 0, 1, 0, 0, 1, 1, 1, 1, 0, 0, 0, 1, 0, 1, 0, 1, 1, 0, 1, 1, 1, 0, 1, 0, 1, 0, 1, 1, 1, 1, 1, 1, 1, 1, 1, 1, 1, 1, 0, 0, 0, 1, 1, 1, 1, 1, 0, 1, 0, 0, 1, 1, 1, 1, 1, 1, 0, 0, 0, 1, 1, 1, 0, 1, 1, 1, 0, 0, 1, 0, 0, 1, 1, 0, 1, 0, 1, 0, 1, 1, 1, 0, 1, 1, 0, 1, 0, 1, 1, 1, 1, 1, 1, 1, 0, 1, 1, 1, 1, 0, 1, 1, 0, 1, 0, 0, 0, 0, 1, 1, 1]\n"
          ]
        }
      ],
      "source": [
        "# Importar las bibliotecas necesarias\n",
        "import tensorflow as tf\n",
        "from tensorflow.keras.preprocessing.image import ImageDataGenerator\n",
        "import numpy as np\n",
        "from skimage.transform import resize\n",
        "\n",
        "# Crear el generador de datos de prueba\n",
        "test_datagen = ImageDataGenerator(rescale=1. / 255, data_format='channels_last')\n",
        "test_generator = test_datagen.flow_from_directory(input_directory_test,\n",
        "                                                  target_size=INPUT_SIZE,\n",
        "                                                  batch_size=1,\n",
        "                                                  class_mode='sparse')\n",
        "\n",
        "true_labels = []\n",
        "predictions = []\n",
        "\n",
        "for i in range(125):\n",
        "    x_batch, y_batch = next(test_generator)\n",
        "    hotmaps = as_model(x_batch)\n",
        "    for x, y, hotmap in zip(x_batch, y_batch, hotmaps):\n",
        "\n",
        "        prediction = np.any(hotmap > as_model.threshold)\n",
        "\n",
        "        # Guardar los valores binarios\n",
        "        true_labels.append(1 if classes[int(y)] == 'anomaly' else 0)  # 1 si es anomaly, 0 si es good\n",
        "        predictions.append(1 if prediction else 0)  # 1 si Anomaly detected es True, 0 si es False\n",
        "\n",
        "        # Redimensionar el hotmap (opcional si necesitas hacer algo con él)\n",
        "        hotmap = resize(hotmap, x.shape[:-1], anti_aliasing=True)\n",
        "\n",
        "        # (Opcional) Puedes descomentar esta parte si necesitas calcular la máscara\n",
        "        # mask = np.where(hotmap > as_model.threshold, 1, 0)\n",
        "\n",
        "        # (Opcional) Mostrar información adicional\n",
        "        # print(f\"Threshold: {as_model.threshold.numpy()} MaxValue: {hotmap.max()}\")\n",
        "        # print(f\"Directory: {classes[int(y)]}, Anomaly detected: {prediction}\")\n",
        "\n",
        "# Mostrar los resultados binarios recolectados\n",
        "print(\"True Labels:\", true_labels)\n",
        "print(\"Predictions:\", predictions)"
      ]
    },
    {
      "cell_type": "code",
      "execution_count": null,
      "metadata": {
        "colab": {
          "base_uri": "https://localhost:8080/",
          "height": 732
        },
        "id": "RJtjsu4t7WYn",
        "outputId": "476ca550-8fae-49ba-b9a2-bed662bad343"
      },
      "outputs": [
        {
          "output_type": "display_data",
          "data": {
            "text/plain": [
              "<Figure size 640x480 with 2 Axes>"
            ],
            "image/png": "[encoded data removed]"
          },
          "metadata": {}
        },
        {
          "output_type": "stream",
          "name": "stdout",
          "text": [
            "Confusion Matrix:\n",
            "[[16 37]\n",
            " [25 47]]\n",
            "Accuracy: 0.504\n",
            "Precision: 0.5595238095238095\n",
            "Recall: 0.6527777777777778\n",
            "F1 Score: 0.6025641025641025\n",
            "True Labels: [1 0 1 0 1 1 0 1 1 1 1 1 1 1 0 1 1 1 1 0 1 1 1 0 0 1 1 1 1 1 1 0 0 0 1 1 1\n",
            " 1 0 1 0 0 0 1 0 0 0 1 1 1 0 1 0 1 1 1 0 0 1 0 0 0 1 1 1 1 0 1 0 1 0 0 1 1\n",
            " 0 1 0 1 1 0 1 1 0 0 0 0 0 1 0 0 0 0 1 0 1 1 0 0 0 1 1 0 1 0 1 0 1 0 0 1 1\n",
            " 0 1 1 1 0 1 1 1 1 1 0 1 1 0]\n",
            "Predictions: [1 1 1 1 0 1 1 1 1 1 0 1 1 1 0 1 0 0 1 1 1 1 0 0 0 1 0 1 0 1 1 0 1 1 1 0 1\n",
            " 0 1 0 1 1 1 1 1 1 1 1 1 1 1 1 0 0 0 1 1 1 1 1 0 1 0 0 1 1 1 1 1 1 0 0 0 1\n",
            " 1 1 0 1 1 1 0 0 1 0 0 1 1 0 1 0 1 0 1 1 1 0 1 1 0 1 0 1 1 1 1 1 1 1 0 1 1\n",
            " 1 1 0 1 1 0 1 0 0 0 0 1 1 1]\n"
          ]
        }
      ],
      "source": [
        "from sklearn.metrics import confusion_matrix, accuracy_score, precision_score, recall_score, f1_score\n",
        "import seaborn as sns\n",
        "import matplotlib.pyplot as plt\n",
        "import numpy as np\n",
        "\n",
        "# Convertir listas a numpy arrays\n",
        "true_labels = np.array(true_labels)\n",
        "predictions = np.array(predictions)\n",
        "\n",
        "# Calcular la matriz de confusión\n",
        "conf_matrix = confusion_matrix(true_labels, predictions)\n",
        "\n",
        "# Calcular indicadores de rendimiento\n",
        "accuracy = accuracy_score(true_labels, predictions)\n",
        "precision = precision_score(true_labels, predictions)\n",
        "recall = recall_score(true_labels, predictions)\n",
        "f1 = f1_score(true_labels, predictions)\n",
        "\n",
        "# Mostrar la matriz de confusión\n",
        "sns.heatmap(conf_matrix, annot=True, fmt=\"d\", cmap=\"Blues\")\n",
        "plt.xlabel('Predicted')\n",
        "plt.ylabel('Actual')\n",
        "plt.title('Confusion Matrix')\n",
        "plt.show()\n",
        "\n",
        "# Imprimir la matriz de confusión y los indicadores de rendimiento\n",
        "print(\"Confusion Matrix:\")\n",
        "print(conf_matrix)\n",
        "print(f\"Accuracy: {accuracy}\")\n",
        "print(f\"Precision: {precision}\")\n",
        "print(f\"Recall: {recall}\")\n",
        "print(f\"F1 Score: {f1}\")\n",
        "\n",
        "# Mostrar los resultados binarios recolectados\n",
        "print(\"True Labels:\", true_labels)\n",
        "print(\"Predictions:\", predictions)\n"
      ]
    },
    {
      "cell_type": "markdown",
      "metadata": {
        "id": "29bhpKdNeObI"
      },
      "source": [
        "# RESULTADOS DEL MODELO ACTUAL"
      ]
    },
    {
      "cell_type": "code",
      "execution_count": null,
      "metadata": {
        "id": "9-zCrLWfcoB2",
        "colab": {
          "base_uri": "https://localhost:8080/"
        },
        "outputId": "540b01e9-5eae-4074-b150-ea215cc347ef"
      },
      "outputs": [
        {
          "output_type": "execute_result",
          "data": {
            "text/plain": [
              "[[0, 47], [0, 68]]"
            ]
          },
          "metadata": {},
          "execution_count": 28
        }
      ],
      "source": [
        "[[ 0, 47],\n",
        " [ 0, 68]]\n"
      ]
    },
    {
      "cell_type": "code",
      "execution_count": null,
      "metadata": {
        "id": "jnIJCQUocqUI",
        "colab": {
          "base_uri": "https://localhost:8080/",
          "height": 859
        },
        "outputId": "6383725e-17eb-488f-ffd0-05542ecee281"
      },
      "outputs": [
        {
          "output_type": "display_data",
          "data": {
            "text/plain": [
              "<Figure size 800x600 with 1 Axes>"
            ],
            "image/png": "[encoded data removed]"
          },
          "metadata": {}
        },
        {
          "output_type": "stream",
          "name": "stdout",
          "text": [
            "Confusion Matrix:\n",
            "[[ 0 53]\n",
            " [ 0 72]]\n",
            "Accuracy: 0.5760\n",
            "Precision: 0.5760\n",
            "Recall: 1.0000\n",
            "F1 Score: 0.7310\n",
            "True Labels:\n",
            "[1 0 1 0 1 1 0 1 1 1 1 1 1 1 0 1 1 1 1 0 1 1 1 0 0 1 1 1 1 1 1 0 0 0 1 1 1\n",
            " 1 0 1 0 0 0 1 0 0 0 1 1 1 0 1 0 1 1 1 0 0 1 0 0 0 1 1 1 1 0 1 0 1 0 0 1 1\n",
            " 0 1 0 1 1 0 1 1 0 0 0 0 0 1 0 0 0 0 1 0 1 1 0 0 0 1 1 0 1 0 1 0 1 0 0 1 1\n",
            " 0 1 1 1 0 1 1 1 1 1 0 1 1 0]\n",
            "Predictions:\n",
            "[1 1 1 1 1 1 1 1 1 1 1 1 1 1 1 1 1 1 1 1 1 1 1 1 1 1 1 1 1 1 1 1 1 1 1 1 1\n",
            " 1 1 1 1 1 1 1 1 1 1 1 1 1 1 1 1 1 1 1 1 1 1 1 1 1 1 1 1 1 1 1 1 1 1 1 1 1\n",
            " 1 1 1 1 1 1 1 1 1 1 1 1 1 1 1 1 1 1 1 1 1 1 1 1 1 1 1 1 1 1 1 1 1 1 1 1 1\n",
            " 1 1 1 1 1 1 1 1 1 1 1 1 1 1]\n"
          ]
        }
      ],
      "source": [
        "from sklearn.metrics import confusion_matrix, accuracy_score, precision_score, recall_score, f1_score\n",
        "import seaborn as sns\n",
        "import matplotlib.pyplot as plt\n",
        "import numpy as np\n",
        "\n",
        "# Simular etiquetas verdaderas y predicciones\n",
        "true_labels = np.array(true_labels)\n",
        "predictions = np.ones_like(true_labels)\n",
        "\n",
        "# Calcular la matriz de confusión\n",
        "conf_matrix = confusion_matrix(true_labels, predictions)\n",
        "\n",
        "# Calcular indicadores de rendimiento\n",
        "accuracy = accuracy_score(true_labels, predictions)\n",
        "precision = precision_score(true_labels, predictions)\n",
        "recall = recall_score(true_labels, predictions)\n",
        "f1 = f1_score(true_labels, predictions)\n",
        "\n",
        "# Mostrar la matriz de confusión\n",
        "plt.figure(figsize=(8, 6))\n",
        "sns.heatmap(conf_matrix, annot=True, fmt=\"d\", cmap=\"Blues\", cbar=False)\n",
        "plt.xlabel('Predicted')\n",
        "plt.ylabel('Actual')\n",
        "plt.title('Confusion Matrix')\n",
        "plt.show()\n",
        "\n",
        "# Imprimir la matriz de confusión y los indicadores de rendimiento\n",
        "print(\"Confusion Matrix:\")\n",
        "print(conf_matrix)\n",
        "print(f\"Accuracy: {accuracy:.4f}\")\n",
        "print(f\"Precision: {precision:.4f}\")\n",
        "print(f\"Recall: {recall:.4f}\")\n",
        "print(f\"F1 Score: {f1:.4f}\")\n",
        "\n",
        "# Mostrar los resultados binarios recolectados\n",
        "print(\"True Labels:\")\n",
        "print(true_labels)\n",
        "print(\"Predictions:\")\n",
        "print(predictions)\n"
      ]
    }
  ],
  "metadata": {
    "accelerator": "GPU",
    "colab": {
      "gpuType": "L4",
      "machine_shape": "hm",
      "provenance": [],
      "include_colab_link": true
    },
    "kaggle": {
      "accelerator": "nvidiaTeslaT4",
      "dataSources": [
        {
          "datasetId": 1485601,
          "sourceId": 2454606,
          "sourceType": "datasetVersion"
        },
        {
          "datasetId": 1661863,
          "sourceId": 2855122,
          "sourceType": "datasetVersion"
        },
        {
          "datasetId": 5111969,
          "sourceId": 8554194,
          "sourceType": "datasetVersion"
        },
        {
          "datasetId": 5120842,
          "sourceId": 8565686,
          "sourceType": "datasetVersion"
        }
      ],
      "dockerImageVersionId": 30716,
      "isGpuEnabled": true,
      "isInternetEnabled": true,
      "language": "python",
      "sourceType": "notebook"
    },
    "kernelspec": {
      "display_name": "Python 3",
      "name": "python3"
    },
    "language_info": {
      "codemirror_mode": {
        "name": "ipython",
        "version": 3
      },
      "file_extension": ".py",
      "mimetype": "text/x-python",
      "name": "python",
      "nbconvert_exporter": "python",
      "pygments_lexer": "ipython3",
      "version": "3.10.13"
    }
  },
  "nbformat": 4,
  "nbformat_minor": 0
}